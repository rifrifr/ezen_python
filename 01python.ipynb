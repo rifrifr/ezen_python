{
 "cells": [
  {
   "cell_type": "code",
   "execution_count": 2,
   "metadata": {},
   "outputs": [
    {
     "name": "stdout",
     "output_type": "stream",
     "text": [
      "10\n",
      "<class 'int'>\n",
      "test\n",
      "<class 'str'>\n"
     ]
    }
   ],
   "source": [
    "#변수설정\n",
    "a=10\n",
    "b=\"test\"\n",
    "##출력\n",
    "print(a)\n",
    "print(type (a))\n",
    "print(b)\n",
    "print(type(b))"
   ]
  },
  {
   "cell_type": "code",
   "execution_count": 3,
   "metadata": {},
   "outputs": [
    {
     "name": "stdout",
     "output_type": "stream",
     "text": [
      "<class 'bool'>\n"
     ]
    }
   ],
   "source": [
    "##볼형 데이터\n",
    "##참과 거짓의 형태\n",
    "a=True\n",
    "print(type(a))\n"
   ]
  },
  {
   "cell_type": "code",
   "execution_count": 4,
   "metadata": {},
   "outputs": [
    {
     "name": "stdout",
     "output_type": "stream",
     "text": [
      "True False True\n"
     ]
    }
   ],
   "source": [
    "b=(100>10)\n",
    "c=(100<10)\n",
    "d=(100==100)\n",
    "print(b,c,d)"
   ]
  },
  {
   "cell_type": "code",
   "execution_count": 5,
   "metadata": {},
   "outputs": [
    {
     "name": "stdout",
     "output_type": "stream",
     "text": [
      "10 4 21 2.3333333333333335 2 1 343\n"
     ]
    }
   ],
   "source": [
    "##산술 연산자\n",
    "##기본적인 사칙 연산\n",
    "a=7\n",
    "b=3\n",
    "print(a+b,a-b,a*b,a/b,a//b,a%b,a**b)"
   ]
  },
  {
   "cell_type": "code",
   "execution_count": 7,
   "metadata": {},
   "outputs": [
    {
     "name": "stdout",
     "output_type": "stream",
     "text": [
      "13\n",
      "20\n"
     ]
    }
   ],
   "source": [
    "c=2\n",
    "print(a+b*c)\n",
    "print((a+b)*c)"
   ]
  },
  {
   "cell_type": "code",
   "execution_count": 10,
   "metadata": {},
   "outputs": [
    {
     "name": "stdout",
     "output_type": "stream",
     "text": [
      "22\n"
     ]
    }
   ],
   "source": [
    "##대입연산자\n",
    "a+=5 #a=a+5\n",
    "print(a)"
   ]
  },
  {
   "cell_type": "code",
   "execution_count": null,
   "metadata": {},
   "outputs": [],
   "source": []
  },
  {
   "attachments": {},
   "cell_type": "markdown",
   "metadata": {},
   "source": [
    "###조건문\n",
    " - if문"
   ]
  },
  {
   "cell_type": "markdown",
   "metadata": {},
   "source": []
  },
  {
   "cell_type": "code",
   "execution_count": 12,
   "metadata": {},
   "outputs": [],
   "source": [
    "a=11\n",
    "if a<10:\n",
    "    print(\"a는 10보다 작다\")"
   ]
  },
  {
   "cell_type": "code",
   "execution_count": 16,
   "metadata": {},
   "outputs": [
    {
     "name": "stdout",
     "output_type": "stream",
     "text": [
      "a는 10보다 크거나 같다\n"
     ]
    }
   ],
   "source": [
    "##if~else\n",
    "a=20\n",
    "\n",
    "if a<10:\n",
    "    print(\"a는 10보다 작다\")\n",
    "else:\n",
    "    print(\"a는 10보다 크거나 같다\")"
   ]
  },
  {
   "cell_type": "code",
   "execution_count": 25,
   "metadata": {},
   "outputs": [
    {
     "name": "stdout",
     "output_type": "stream",
     "text": [
      "50\n",
      "<class 'int'>\n",
      "F\n",
      "프로그램 종료\n"
     ]
    }
   ],
   "source": [
    "##if~elif~else문\n",
    "score=int(input(\"점수를 입력하세요 :\"))\n",
    "print(score)\n",
    "print(type(score))\n",
    "if score>90:\n",
    "    print (\"A\")\n",
    "elif score>= 80:\n",
    "    print(\"B\")\n",
    "elif score>= 70:\n",
    "    print(\"C\")\n",
    "else :\n",
    "    print(\"F\")\n",
    "    \n",
    "print(\"프로그램 종료\")"
   ]
  },
  {
   "cell_type": "code",
   "execution_count": 22,
   "metadata": {},
   "outputs": [
    {
     "name": "stdout",
     "output_type": "stream",
     "text": [
      "0 번째 반복\n",
      "1 번째 반복\n",
      "2 번째 반복\n",
      "3 번째 반복\n",
      "4 번째 반복\n",
      "5 번째 반복\n",
      "6 번째 반복\n",
      "7 번째 반복\n",
      "8 번째 반복\n",
      "9 번째 반복\n"
     ]
    }
   ],
   "source": [
    "##반복문\n",
    "##for문\n",
    "for i in range(0,10,1):\n",
    "    print(\"%d 번째 반복\" %i)\n",
    "    \n",
    "    \n",
    "                                                                                                                                                                                                                                                                                                                                                                                                                                                                                                                                                                                                                                                                                                                                                      ##1붙"
   ]
  },
  {
   "cell_type": "code",
   "execution_count": 26,
   "metadata": {},
   "outputs": [
    {
     "name": "stdout",
     "output_type": "stream",
     "text": [
      "55\n"
     ]
    }
   ],
   "source": [
    "##1부터 10까지 합계 #for문\n",
    "##합계 변수 생성\n",
    "sum=0\n",
    "for a in range(1,11,1):\n",
    "    sum+=a #sum=sum+a\n",
    "    \n",
    "print(sum)"
   ]
  },
  {
   "cell_type": "code",
   "execution_count": 30,
   "metadata": {},
   "outputs": [
    {
     "name": "stdout",
     "output_type": "stream",
     "text": [
      "2단\n",
      "2*1=2 \n",
      "2*2=4 \n",
      "2*3=6 \n",
      "2*4=8 \n",
      "2*5=10 \n",
      "2*6=12 \n",
      "2*7=14 \n",
      "2*8=16 \n",
      "2*9=18 \n",
      "3단\n",
      "3*1=3 \n",
      "3*2=6 \n",
      "3*3=9 \n",
      "3*4=12 \n",
      "3*5=15 \n",
      "3*6=18 \n",
      "3*7=21 \n",
      "3*8=24 \n",
      "3*9=27 \n",
      "4단\n",
      "4*1=4 \n",
      "4*2=8 \n",
      "4*3=12 \n",
      "4*4=16 \n",
      "4*5=20 \n",
      "4*6=24 \n",
      "4*7=28 \n",
      "4*8=32 \n",
      "4*9=36 \n",
      "5단\n",
      "5*1=5 \n",
      "5*2=10 \n",
      "5*3=15 \n",
      "5*4=20 \n",
      "5*5=25 \n",
      "5*6=30 \n",
      "5*7=35 \n",
      "5*8=40 \n",
      "5*9=45 \n",
      "6단\n",
      "6*1=6 \n",
      "6*2=12 \n",
      "6*3=18 \n",
      "6*4=24 \n",
      "6*5=30 \n",
      "6*6=36 \n",
      "6*7=42 \n",
      "6*8=48 \n",
      "6*9=54 \n",
      "7단\n",
      "7*1=7 \n",
      "7*2=14 \n",
      "7*3=21 \n",
      "7*4=28 \n",
      "7*5=35 \n",
      "7*6=42 \n",
      "7*7=49 \n",
      "7*8=56 \n",
      "7*9=63 \n",
      "8단\n",
      "8*1=8 \n",
      "8*2=16 \n",
      "8*3=24 \n",
      "8*4=32 \n",
      "8*5=40 \n",
      "8*6=48 \n",
      "8*7=56 \n",
      "8*8=64 \n",
      "8*9=72 \n",
      "9단\n",
      "9*1=9 \n",
      "9*2=18 \n",
      "9*3=27 \n",
      "9*4=36 \n",
      "9*5=45 \n",
      "9*6=54 \n",
      "9*7=63 \n",
      "9*8=72 \n",
      "9*9=81 \n"
     ]
    }
   ],
   "source": [
    "##다중 for문##구구단\n",
    "for i in range(2,10,1):\n",
    "    print(\"%d단\"%i) #print(i+\"단\")\n",
    "    for j in range(1,10,1):\n",
    "        print (\"%d*%d=%d \"%(i,j,i*j))  \n",
    "end=','"
   ]
  },
  {
   "cell_type": "code",
   "execution_count": 36,
   "metadata": {},
   "outputs": [
    {
     "name": "stdout",
     "output_type": "stream",
     "text": [
      "2550\n"
     ]
    }
   ],
   "source": [
    "\n",
    "##for문 \n",
    "##1부터 100까지 숫자 중 짝수의 합계 \n",
    "##hint : 1 부터 100까지 반복 , if 조건식 사용해서 짝수인 경우에만 +\n",
    "sum=0 \n",
    "for i in range(1,101,1):\n",
    "   \n",
    "    if i%2==0:\n",
    "            sum+=i \n",
    "print(sum)"
   ]
  },
  {
   "cell_type": "code",
   "execution_count": 39,
   "metadata": {},
   "outputs": [
    {
     "name": "stdout",
     "output_type": "stream",
     "text": [
      "1 4\n",
      "2 3\n",
      "3 2\n",
      "4 1\n"
     ]
    }
   ],
   "source": [
    "##2개 주사위 굴려 두 주사위 합이 5가 되는 주사위의 값##다중 for문\n",
    "for i in range(1,7,1):\n",
    "    for j in range(1,7,1):\n",
    "         if i+j==5 :\n",
    "            print(i,j)\n"
   ]
  },
  {
   "cell_type": "code",
   "execution_count": 40,
   "metadata": {},
   "outputs": [
    {
     "name": "stdout",
     "output_type": "stream",
     "text": [
      "0\n",
      "1\n",
      "2\n",
      "3\n",
      "4\n",
      "5\n",
      "6\n",
      "7\n",
      "8\n",
      "9\n"
     ]
    }
   ],
   "source": [
    "##while문 \n",
    "##초기값 지정\n",
    "i=0\n",
    "\n",
    "##while문 시작\n",
    "while i<10:\n",
    "    print(i)\n",
    "    i+=1"
   ]
  },
  {
   "cell_type": "code",
   "execution_count": 42,
   "metadata": {},
   "outputs": [
    {
     "name": "stdout",
     "output_type": "stream",
     "text": [
      "1 번째 반복\n",
      "2 번째 반복\n",
      "3 번째 반복\n",
      "4 번째 반복\n",
      "5 번째 반복\n"
     ]
    }
   ],
   "source": [
    "##break 문\n",
    "for i in range(1,101,1):\n",
    "    print(\"%d 번째 반복\"%i)\n",
    "    if i ==5: \n",
    "        break\n",
    "    "
   ]
  },
  {
   "cell_type": "code",
   "execution_count": 43,
   "metadata": {},
   "outputs": [
    {
     "name": "stdout",
     "output_type": "stream",
     "text": [
      "합게가 500 이상이 되는 범위의 숫자 32 합계는 528\n"
     ]
    }
   ],
   "source": [
    "##1부터 100까지 합계를 구하는 중 합계가 500이 넘어가는 숫자와 합계의 값?\n",
    "\n",
    "sum=0\n",
    "for i in range(1,101,1):\n",
    "    sum+=i \n",
    "    if sum>=500:\n",
    "         break \n",
    "     \n",
    "print('합게가 500 이상이 되는 범위의 숫자',i,'합계는',sum)"
   ]
  },
  {
   "cell_type": "code",
   "execution_count": 46,
   "metadata": {},
   "outputs": [
    {
     "name": "stdout",
     "output_type": "stream",
     "text": [
      "합게가 500 이상이 되는 범위의 숫자 32 합계는 528\n"
     ]
    }
   ],
   "source": [
    "sum=0\n",
    "i=1\n",
    "while i<=100:\n",
    "    sum+=i\n",
    "    if sum>=500:\n",
    "        break\n",
    "    i+=1\n",
    "print('합게가 500 이상이 되는 범위의 숫자',i,'합계는',sum)"
   ]
  },
  {
   "cell_type": "code",
   "execution_count": 47,
   "metadata": {},
   "outputs": [
    {
     "name": "stdout",
     "output_type": "stream",
     "text": [
      "4번째 반복\n",
      "5번째 반복\n",
      "6번째 반복\n",
      "7번째 반복\n",
      "8번째 반복\n",
      "9번째 반복\n"
     ]
    }
   ],
   "source": [
    "##continue 문\n",
    "for i in range(1,10,1):\n",
    "    if i<=3:\n",
    "        continue\n",
    "    print(\"%d번째 반복\"%i) #continue를 마지막에 넣으면 의미없음! "
   ]
  },
  {
   "cell_type": "code",
   "execution_count": 48,
   "metadata": {},
   "outputs": [
    {
     "name": "stdout",
     "output_type": "stream",
     "text": [
      "2550\n"
     ]
    }
   ],
   "source": [
    "sum=0\n",
    "for i in range(1,101,1):\n",
    "    if i%2==1:\n",
    "        continue\n",
    "    sum+=i\n",
    "    \n",
    "print(sum)\n"
   ]
  },
  {
   "cell_type": "code",
   "execution_count": 49,
   "metadata": {},
   "outputs": [
    {
     "name": "stdout",
     "output_type": "stream",
     "text": [
      "(1, 'hello') (3, 3.14) (1, 'hello', 3, 3.14) (1, 'hello', 1, 'hello', 1, 'hello') hello\n"
     ]
    }
   ],
   "source": [
    "\n",
    "###튜플\n",
    "a=(1,'hello')\n",
    "b=(3,3.14)\n",
    "c=a+b\n",
    "d=a*3\n",
    "e=a[1]\n",
    "print(a,b,c,d,e)"
   ]
  },
  {
   "cell_type": "code",
   "execution_count": 50,
   "metadata": {},
   "outputs": [
    {
     "name": "stdout",
     "output_type": "stream",
     "text": [
      "1\n"
     ]
    }
   ],
   "source": [
    "print(a[0])\n"
   ]
  },
  {
   "cell_type": "code",
   "execution_count": 51,
   "metadata": {},
   "outputs": [
    {
     "name": "stdout",
     "output_type": "stream",
     "text": [
      "(20, 30)\n"
     ]
    }
   ],
   "source": [
    "a=(10,20,30,40)\n",
    "print(a[1:3])"
   ]
  },
  {
   "cell_type": "code",
   "execution_count": 52,
   "metadata": {},
   "outputs": [
    {
     "name": "stdout",
     "output_type": "stream",
     "text": [
      "(30, 40)\n"
     ]
    }
   ],
   "source": [
    "print(a[2:])#:뒤에 아무것도 안붙이면 마지막까지! /처음이 0임주의"
   ]
  },
  {
   "cell_type": "code",
   "execution_count": 53,
   "metadata": {},
   "outputs": [
    {
     "name": "stdout",
     "output_type": "stream",
     "text": [
      "[5, 10, 20, 50]\n"
     ]
    }
   ],
   "source": [
    "##list 형태 data\n",
    "a=[20,10,50,5]\n",
    "b=[10,20,30,40]\n",
    "##sort()=오름차순 정렬로 변겨\n",
    "a.sort()\n",
    "print(a)"
   ]
  },
  {
   "cell_type": "code",
   "execution_count": 55,
   "metadata": {},
   "outputs": [
    {
     "name": "stdout",
     "output_type": "stream",
     "text": [
      "[40, 30, 20, 10]\n"
     ]
    }
   ],
   "source": [
    "##reverse()-> 역순정렬\n",
    "b.reverse()\n",
    "print(b)"
   ]
  },
  {
   "cell_type": "code",
   "execution_count": 56,
   "metadata": {},
   "outputs": [
    {
     "name": "stdout",
     "output_type": "stream",
     "text": [
      "[5, 10, 20, 50, 22]\n"
     ]
    }
   ],
   "source": [
    "##append(): 리스트 마지막에 항목 추가\n",
    "a.append(22)\n",
    "print(a)"
   ]
  },
  {
   "cell_type": "code",
   "execution_count": 57,
   "metadata": {},
   "outputs": [
    {
     "name": "stdout",
     "output_type": "stream",
     "text": [
      "[]\n",
      "[10]\n"
     ]
    }
   ],
   "source": [
    "##list 특징\n",
    "a=[]\n",
    "print(a)\n",
    "a.append(10)\n",
    "print(a)"
   ]
  },
  {
   "cell_type": "code",
   "execution_count": 72,
   "metadata": {},
   "outputs": [
    {
     "name": "stdout",
     "output_type": "stream",
     "text": [
      "[3, 6, 9, 12, 15, 18, 21, 24, 27, 30, 33, 36, 39, 42, 45, 48, 51, 54, 57, 60, 63, 66, 69]\n"
     ]
    }
   ],
   "source": [
    "##1부터 70까지 숫자들 중 3의 배수를 list로 만들어서 출력하시오\n",
    "a=[]\n",
    "for i in range(1,71,1):\n",
    "    if i%3==0:\n",
    "        a.append(i)\n",
    "        \n",
    "print(a)"
   ]
  },
  {
   "cell_type": "code",
   "execution_count": 59,
   "metadata": {},
   "outputs": [
    {
     "name": "stdout",
     "output_type": "stream",
     "text": [
      "5\n",
      "7\n",
      "10\n"
     ]
    }
   ],
   "source": [
    "for i in [5,7,10]:\n",
    "    print(i)"
   ]
  },
  {
   "cell_type": "code",
   "execution_count": 61,
   "metadata": {},
   "outputs": [
    {
     "data": {
      "text/plain": [
       "[1, 2, 3, 4, 5, 6, 7, 8, 9]"
      ]
     },
     "execution_count": 61,
     "metadata": {},
     "output_type": "execute_result"
    }
   ],
   "source": [
    "list(range(1, 10, 1))"
   ]
  },
  {
   "cell_type": "code",
   "execution_count": 75,
   "metadata": {},
   "outputs": [
    {
     "name": "stdout",
     "output_type": "stream",
     "text": [
      "828\n"
     ]
    }
   ],
   "source": [
    "sum=0\n",
    "for i in a:\n",
    "     sum+=i\n",
    "print(sum)"
   ]
  },
  {
   "cell_type": "code",
   "execution_count": 79,
   "metadata": {},
   "outputs": [
    {
     "name": "stdout",
     "output_type": "stream",
     "text": [
      "test\n"
     ]
    }
   ],
   "source": [
    "##dictionary data\n",
    "##{key1:value1, key2: value2,...}\n",
    "dict={\n",
    "    \"name\":\"test\",\n",
    "    \"age\":20,\n",
    "    \"phone\": \"01047599409\"\n",
    "}\n",
    "print(dict[\"name\"])"
   ]
  },
  {
   "cell_type": "code",
   "execution_count": 78,
   "metadata": {},
   "outputs": [
    {
     "name": "stdout",
     "output_type": "stream",
     "text": [
      "{'name': 'test', 'age': 20, 'phone': '01047599409', 'area': 'seoul'}\n"
     ]
    }
   ],
   "source": [
    "##새로운 key: value를 대입\n",
    "dict['area']=\"seoul\"\n",
    "print(dict)\n",
    "\n"
   ]
  },
  {
   "cell_type": "code",
   "execution_count": 87,
   "metadata": {},
   "outputs": [
    {
     "name": "stdout",
     "output_type": "stream",
     "text": [
      "{'name': 'test1', 'age': 20}\n"
     ]
    }
   ],
   "source": [
    "##database에서 data 받아올 때 data의 형태\n",
    "##[{},{},{}]\n",
    "test_data=[\n",
    "    {\"name\":\"test1\",\n",
    "     \"age\":20,},\n",
    "    {\"name\":\"test2\",\n",
    "     \"age\":30},\n",
    "    {\"name\":\"test3\",\n",
    "     \"age\":40}\n",
    "]\n",
    "print(test_data[0])   ##[0]하면 1번째 리스트 출력/ 이후 name만 출력하려면 [name]써주기\n",
    "\n",
    "    "
   ]
  },
  {
   "cell_type": "code",
   "execution_count": 89,
   "metadata": {},
   "outputs": [
    {
     "name": "stdout",
     "output_type": "stream",
     "text": [
      "test1\n"
     ]
    }
   ],
   "source": [
    "print(test_data[0]['name'])"
   ]
  },
  {
   "cell_type": "code",
   "execution_count": 92,
   "metadata": {},
   "outputs": [
    {
     "name": "stdout",
     "output_type": "stream",
     "text": [
      "['test1', 'test2', 'test3']\n"
     ]
    }
   ],
   "source": [
    "##test_data에서 name의 값들인 list 형태로 출력\n",
    "name_list=[]\n",
    "for name in test_data:\n",
    "    name_list.append(name[\"name\"])\n",
    "print(name_list)"
   ]
  },
  {
   "cell_type": "code",
   "execution_count": 93,
   "metadata": {},
   "outputs": [
    {
     "name": "stdout",
     "output_type": "stream",
     "text": [
      "['test1', 'test2', 'test3']\n"
     ]
    }
   ],
   "source": [
    "name_list=[]\n",
    "\n",
    "for i in range(0,3,1):\n",
    "    name_list.append(test_data[i]['name'])\n",
    "    \n",
    "print(name_list)"
   ]
  },
  {
   "cell_type": "code",
   "execution_count": 95,
   "metadata": {},
   "outputs": [
    {
     "name": "stdout",
     "output_type": "stream",
     "text": [
      "HELLO WORLD\n",
      "hello world\n"
     ]
    }
   ],
   "source": [
    "##문자열 내장 함수\n",
    "\n",
    "##대문자, 소문자 변환\n",
    "##upper(), lover()\n",
    "text=\"hello world\"\n",
    "print(text.upper())\n",
    "print(text.lower())"
   ]
  },
  {
   "cell_type": "code",
   "execution_count": 122,
   "metadata": {},
   "outputs": [
    {
     "name": "stdout",
     "output_type": "stream",
     "text": [
      "    hello   world   \n"
     ]
    }
   ],
   "source": [
    "text=\"    hello   world   \"\n",
    "print(text)"
   ]
  },
  {
   "cell_type": "code",
   "execution_count": 123,
   "metadata": {},
   "outputs": [
    {
     "name": "stdout",
     "output_type": "stream",
     "text": [
      "hello   world   \n",
      "    hello   world\n",
      "hello   world\n"
     ]
    }
   ],
   "source": [
    "##공백 제거 함수 \n",
    "##strip(): 양쪽 공백 제거\n",
    "##lstrip(): 왼쪽 공백 제거 / rstrip() : 오른쪽 공백 제거 \n",
    "\n",
    "print(text.lstrip())\n",
    "print(text.rstrip())\n",
    "print(text.strip())\n",
    "\n"
   ]
  },
  {
   "cell_type": "code",
   "execution_count": 124,
   "metadata": {},
   "outputs": [
    {
     "data": {
      "text/plain": [
       "'helloworld'"
      ]
     },
     "execution_count": 124,
     "metadata": {},
     "output_type": "execute_result"
    }
   ],
   "source": [
    "##선택한 문자열 변경\n",
    "##공백 제거에도사용 가능\n",
    "text.replace(\" \",\"\")"
   ]
  },
  {
   "cell_type": "code",
   "execution_count": 105,
   "metadata": {},
   "outputs": [
    {
     "name": "stdout",
     "output_type": "stream",
     "text": [
      "a,b,c,d,e\n"
     ]
    }
   ],
   "source": [
    "###split()\n",
    "##기준이 되는 문자열이나 , ./ 같은 특수문자열 기준으로 나눠주는 역할\n",
    "a=\"a,b,c,d,e\"\n",
    "print(a)\n"
   ]
  },
  {
   "cell_type": "code",
   "execution_count": 106,
   "metadata": {},
   "outputs": [
    {
     "data": {
      "text/plain": [
       "['a', 'b', 'c', 'd', 'e']"
      ]
     },
     "execution_count": 106,
     "metadata": {},
     "output_type": "execute_result"
    }
   ],
   "source": [
    "a.split(\",\")"
   ]
  },
  {
   "cell_type": "code",
   "execution_count": 108,
   "metadata": {},
   "outputs": [],
   "source": [
    "##함수\n",
    "\n",
    "def func_1():\n",
    "    return \"Hello World\""
   ]
  },
  {
   "cell_type": "code",
   "execution_count": 109,
   "metadata": {},
   "outputs": [
    {
     "name": "stdout",
     "output_type": "stream",
     "text": [
      "Hello World\n",
      "Hello World\n"
     ]
    }
   ],
   "source": [
    "print(func_1())\n",
    "print(func_1())"
   ]
  },
  {
   "cell_type": "code",
   "execution_count": 110,
   "metadata": {},
   "outputs": [
    {
     "name": "stdout",
     "output_type": "stream",
     "text": [
      "8\n",
      "4\n",
      "14\n"
     ]
    }
   ],
   "source": [
    "##매개변수가 존재하는 함수 생성\n",
    "def func_2(x,y):\n",
    "    result=x+y\n",
    "    return result\n",
    "print(func_2(5,3))\n",
    "print(func_2(1,3))\n",
    "print(func_2(10,4))"
   ]
  },
  {
   "cell_type": "code",
   "execution_count": 116,
   "metadata": {},
   "outputs": [
    {
     "name": "stdout",
     "output_type": "stream",
     "text": [
      "6\n",
      "6\n"
     ]
    }
   ],
   "source": [
    "###매개변수의 기본값을 정의\n",
    "def func_3(x,y=3):\n",
    "    result=x+y\n",
    "    return result \n",
    "print(func_3(5,1))\n",
    "print(func_3(3))\n"
   ]
  },
  {
   "cell_type": "code",
   "execution_count": 120,
   "metadata": {},
   "outputs": [
    {
     "name": "stdout",
     "output_type": "stream",
     "text": [
      "25\n",
      "32\n"
     ]
    }
   ],
   "source": [
    "def func_4(x,y):\n",
    "    result=x**y\n",
    "    return result\n",
    "print(func_4(5,2))\n",
    "print(func_4(y=5, x=2))"
   ]
  },
  {
   "cell_type": "code",
   "execution_count": 128,
   "metadata": {},
   "outputs": [
    {
     "name": "stdout",
     "output_type": "stream",
     "text": [
      "14\n"
     ]
    }
   ],
   "source": [
    "##함수 생성, 매개변수 2개,   1. 함수행동(x부터 y까지의 합을 리턴)-for/while 상관 x\n",
    "#2. x보다 y가 작은 경우 x부터 y까지 합, 반대인경우 y부터 x까지의 합\n",
    "\n",
    "def func_5(x,y):\n",
    "    sum=0\n",
    "    for i in range(x,y+1,1):\n",
    "     sum+=i\n",
    "     \n",
    "    return sum\n",
    "print(func_5(2,5))\n",
    "\n",
    "\n",
    "    \n",
    "    "
   ]
  },
  {
   "cell_type": "code",
   "execution_count": 131,
   "metadata": {},
   "outputs": [
    {
     "name": "stdout",
     "output_type": "stream",
     "text": [
      "12\n"
     ]
    }
   ],
   "source": [
    "def func_6(x,y):\n",
    "    f_sum=0\n",
    "    while x<=y:\n",
    "        f_sum+=x\n",
    "        x+=1\n",
    "    return f_sum\n",
    "print(func_6(3,5))"
   ]
  },
  {
   "cell_type": "code",
   "execution_count": 132,
   "metadata": {},
   "outputs": [
    {
     "name": "stdout",
     "output_type": "stream",
     "text": [
      "55\n"
     ]
    }
   ],
   "source": [
    "def func_7(x,y):\n",
    "    f_sum=0\n",
    "    if x<y:\n",
    "     for i in range(x,y+1,1):\n",
    "        f_sum+=i\n",
    "    else:\n",
    "        for i in range(y,x+1,1):\n",
    "            f_sum+=i\n",
    "    return f_sum\n",
    "\n",
    "print(func_7(10,1))"
   ]
  },
  {
   "cell_type": "code",
   "execution_count": 135,
   "metadata": {},
   "outputs": [
    {
     "name": "stdout",
     "output_type": "stream",
     "text": [
      "55\n",
      "55\n"
     ]
    }
   ],
   "source": [
    "def func_8(x,y):\n",
    "    f_sum=0\n",
    "    for i in range(min(x,y),max(x,y)+1,1):\n",
    "        f_sum+=i\n",
    "        i+=1\n",
    "        \n",
    "    return f_sum\n",
    "print(func_8(1,10))\n",
    "print(func_8(10,1))"
   ]
  },
  {
   "cell_type": "code",
   "execution_count": 150,
   "metadata": {},
   "outputs": [
    {
     "name": "stdout",
     "output_type": "stream",
     "text": [
      "15\n",
      "5\n",
      "15\n",
      "5\n"
     ]
    }
   ],
   "source": [
    "##\n",
    "#1.함수생성 (매개변수3개 x,y,z)\n",
    "#2. z값이 합 x+y 리턴\n",
    "#3. z값이 차 x-y 리턴\n",
    "#4. z값이 둘 다 아니면 '연산식이 잘못되었습니다' 리턴\n",
    "\n",
    "def func_9(x,y,z):\n",
    "    if z== \"합\":\n",
    "        return x+y\n",
    "    elif z== \"차\":##elif 말고 if만 써도 됨 (return 따로 써줘서)// else도 빼도 됨\n",
    "        return x-y\n",
    "    else:\n",
    "        return \"연산식이 잘못되었습니다\"\n",
    "print(func_9(10,5,\"합\"))\n",
    "print(func_9(10,5,\"차\"))\n",
    "\n",
    "\n",
    "def func_10(x,y,z):\n",
    "    if z==\"합\":\n",
    "     result=x+y\n",
    "    elif z==\"차\":\n",
    "     result=x-y\n",
    "    else:\n",
    "        result=\"연산식이 잘못되었습니다\"\n",
    "    return result\n",
    "print(func_10(10,5,\"합\"))\n",
    "print(func_10(10,5,\"차\"))\n"
   ]
  },
  {
   "cell_type": "code",
   "execution_count": 147,
   "metadata": {},
   "outputs": [
    {
     "name": "stdout",
     "output_type": "stream",
     "text": [
      "[1, 4, 9, 16]\n"
     ]
    }
   ],
   "source": [
    "def func_11(x):\n",
    "    result=x**2\n",
    "    return result\n",
    "l=[1,2,3,4]\n",
    "result=[]\n",
    "for i in l:\n",
    "    result.append(func_11(i))\n",
    "print(result)\n",
    "\n",
    "#map 함수 \n",
    "result_2=list(map(func_11,l)) ##list의 1,2,3,4를 하나씩 넣어줄거다!\n",
    "\n"
   ]
  },
  {
   "cell_type": "code",
   "execution_count": 148,
   "metadata": {},
   "outputs": [
    {
     "name": "stdout",
     "output_type": "stream",
     "text": [
      "16\n"
     ]
    }
   ],
   "source": [
    "##란다 함수\n",
    "lamb=lambda x:x**2\n",
    "print(lamb(4))\n"
   ]
  },
  {
   "cell_type": "code",
   "execution_count": 149,
   "metadata": {},
   "outputs": [
    {
     "data": {
      "text/plain": [
       "[1, 4, 9, 16]"
      ]
     },
     "execution_count": 149,
     "metadata": {},
     "output_type": "execute_result"
    }
   ],
   "source": [
    "list(map(lamb,l))"
   ]
  },
  {
   "cell_type": "code",
   "execution_count": null,
   "metadata": {},
   "outputs": [],
   "source": []
  }
 ],
 "metadata": {
  "kernelspec": {
   "display_name": "Python 3",
   "language": "python",
   "name": "python3"
  },
  "language_info": {
   "codemirror_mode": {
    "name": "ipython",
    "version": 3
   },
   "file_extension": ".py",
   "mimetype": "text/x-python",
   "name": "python",
   "nbconvert_exporter": "python",
   "pygments_lexer": "ipython3",
   "version": "3.11.1"
  },
  "orig_nbformat": 4,
  "vscode": {
   "interpreter": {
    "hash": "c261aea317cc0286b3b3261fbba9abdec21eaa57589985bb7a274bf54d6cc0a7"
   }
  }
 },
 "nbformat": 4,
 "nbformat_minor": 2
}

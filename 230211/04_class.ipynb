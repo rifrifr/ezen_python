{
 "cells": [
  {
   "cell_type": "code",
   "execution_count": null,
   "metadata": {},
   "outputs": [],
   "source": []
  },
  {
   "attachments": {},
   "cell_type": "markdown",
   "metadata": {},
   "source": [
    "###class\n",
    "1. user 클래스 생성\n",
    "    -생성자 함수는 유저 정보 입력(이름, 휴대폰번호, 생년월일)\n",
    "    -info()함수를 생성: 유저의 정보를 출력\n",
    "2. wallet 클래스 생성 \n",
    "    -user를 상속\n",
    "    -생성자 함수는 소유자의 정보(이름, 휴대폰번호, 생년월일), 지갑 브랜드, 지갑의 가치, 잔액(0) 입력\n",
    "    -work() 함수를 생성: 일의 종류는 'TM','Alba','Serving'이고 TM을 하는 경우 지갑의 잔액이 5000 증가, Alba하는 겨우 잔액 10000증가, serving: 15000 증가\n",
    "\n",
    "-wallet_info() 함수를 생성 : 지갑의 소유자 정보와 잔액을 출력\n",
    "\n"
   ]
  },
  {
   "cell_type": "code",
   "execution_count": 62,
   "metadata": {},
   "outputs": [],
   "source": [
    "##클래스 선언\n",
    "class user:\n",
    "    ##생성자 함수인 __init__ 생성\n",
    "    def __init__(self,_name,_phone,_birth):\n",
    "        self.name=_name\n",
    "        self.phone=_phone\n",
    "        self.birth=_birth\n",
    "    #user 정보 출력하는 함수\n",
    "    def info(self):\n",
    "        self.result=[self.name,self.phone,self.birth]\n",
    "        return self.result"
   ]
  },
  {
   "cell_type": "code",
   "execution_count": 63,
   "metadata": {},
   "outputs": [
    {
     "name": "stdout",
     "output_type": "stream",
     "text": [
      "['test', '0198980833', '991214']\n"
     ]
    }
   ],
   "source": [
    "user1=user('test','0198980833','991214')\n",
    "user2=user('test2','01029489893','841122')\n",
    "print(user1.info())  ##user1의 주소가 class의 self로 감! user2도 마찬가지~"
   ]
  },
  {
   "cell_type": "code",
   "execution_count": 64,
   "metadata": {},
   "outputs": [],
   "source": [
    "##wallet 클래스 선언\n",
    "class wallet(user):\n",
    "    ##생성자 함수 생성\n",
    "    def __init__(self,_name,_phone,_birth,_brand,_value,_balance=0):\n",
    "        ##부모 클래스의 생성자 함수를 실행\n",
    "        super().__init__(_name,_phone,_birth)\n",
    "        self.brand=_brand\n",
    "        self.value=_value\n",
    "        self.balance=_balance\n",
    "\n",
    "    ##work() 함수 생성-> 일의 종류\n",
    "    def work(self,_work_type): \n",
    "        if _work_type=='TM':\n",
    "            self.cost=5000\n",
    "        elif _work_type=='Alba':\n",
    "            self.cost=10000\n",
    "        elif _work_type=='serving':\n",
    "            self.cost=15000\n",
    "        else:\n",
    "            return 'work_type이 맞지 않습니다'\n",
    "    ##잔액 변경\n",
    "        self.balance+=self.cost\n",
    "        return f\"{_work_type}일을 성공하였습니다. 현재 잔액은 {self.balance}입니다\"\n",
    "\n",
    "    ##지갑의 정보를 출력하는 함수\n",
    "    def wallet_info(self):\n",
    "        print(f\"지갑의 소유자는 {self.name}\")\n",
    "        print(f\"현재 잔액은{self.balance}\")\n",
    "        \n",
    "    ##오버라이딩-부모 클래스의 기능을 변경하여 사용\n",
    "    def info(self): \n",
    "        print(f'소유자의 이름은 {self.name}')\n",
    "        print(f'지갑의 브랜드는 {self.brand}')\n",
    "        print(f'지갑의 가치는 {self.value}')"
   ]
  },
  {
   "cell_type": "code",
   "execution_count": 65,
   "metadata": {},
   "outputs": [
    {
     "name": "stdout",
     "output_type": "stream",
     "text": [
      "지갑의 소유자는 test2\n",
      "현재 잔액은0\n"
     ]
    }
   ],
   "source": [
    "wallet1=wallet('test','01012234342','801201','gucci',1000000)\n",
    "wallet2=wallet('test2','01097545454','850101','chanel',5000000)\n",
    "\n",
    "wallet2.wallet_info()"
   ]
  },
  {
   "cell_type": "code",
   "execution_count": 66,
   "metadata": {},
   "outputs": [
    {
     "data": {
      "text/plain": [
       "'work_type이 맞지 않습니다'"
      ]
     },
     "execution_count": 66,
     "metadata": {},
     "output_type": "execute_result"
    }
   ],
   "source": [
    "wallet1.work('TM')\n",
    "wallet1.work('Alba')\n",
    "wallet1.work('serving')\n",
    "wallet1.work('teaching')\n"
   ]
  },
  {
   "cell_type": "code",
   "execution_count": 67,
   "metadata": {},
   "outputs": [
    {
     "name": "stdout",
     "output_type": "stream",
     "text": [
      "지갑의 소유자는 test2\n",
      "현재 잔액은0\n"
     ]
    }
   ],
   "source": [
    "wallet2.wallet_info()"
   ]
  },
  {
   "cell_type": "code",
   "execution_count": 68,
   "metadata": {},
   "outputs": [
    {
     "name": "stdout",
     "output_type": "stream",
     "text": [
      "지갑의 소유자는 test\n",
      "현재 잔액은30000\n"
     ]
    }
   ],
   "source": [
    "wallet1.wallet_info()"
   ]
  },
  {
   "cell_type": "code",
   "execution_count": 69,
   "metadata": {},
   "outputs": [
    {
     "name": "stdout",
     "output_type": "stream",
     "text": [
      "소유자의 이름은 test\n",
      "지갑의 브랜드는 gucci\n",
      "지갑의 가치는 1000000\n"
     ]
    }
   ],
   "source": [
    "wallet1.info()"
   ]
  },
  {
   "cell_type": "code",
   "execution_count": 70,
   "metadata": {},
   "outputs": [],
   "source": [
    "##오버라이딩-부모 클래스의 기능을 변경하여 사용\n",
    "def info(self): \n",
    "    print(f'소유자의 이름은 {self.name}')\n",
    "    print(f'지갑의 브랜드는 {self.brand}')\n",
    "    print(f'지갑의 가치는 {self.value}')"
   ]
  },
  {
   "cell_type": "code",
   "execution_count": 71,
   "metadata": {},
   "outputs": [
    {
     "name": "stdout",
     "output_type": "stream",
     "text": [
      "소유자의 이름은 test\n",
      "지갑의 브랜드는 gucci\n",
      "지갑의 가치는 1000000\n"
     ]
    }
   ],
   "source": [
    "wallet1.info()"
   ]
  },
  {
   "cell_type": "code",
   "execution_count": null,
   "metadata": {},
   "outputs": [],
   "source": []
  }
 ],
 "metadata": {
  "kernelspec": {
   "display_name": "Python 3",
   "language": "python",
   "name": "python3"
  },
  "language_info": {
   "codemirror_mode": {
    "name": "ipython",
    "version": 3
   },
   "file_extension": ".py",
   "mimetype": "text/x-python",
   "name": "python",
   "nbconvert_exporter": "python",
   "pygments_lexer": "ipython3",
   "version": "3.11.1"
  },
  "orig_nbformat": 4,
  "vscode": {
   "interpreter": {
    "hash": "c261aea317cc0286b3b3261fbba9abdec21eaa57589985bb7a274bf54d6cc0a7"
   }
  }
 },
 "nbformat": 4,
 "nbformat_minor": 2
}
